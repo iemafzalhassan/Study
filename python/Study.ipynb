{
 "cells": [
  {
   "cell_type": "code",
   "execution_count": 1,
   "id": "191d60e4",
   "metadata": {},
   "outputs": [
    {
     "name": "stdout",
     "output_type": "stream",
     "text": [
      "hello world\n"
     ]
    }
   ],
   "source": [
    "print(\"hello world\")"
   ]
  },
  {
   "cell_type": "code",
   "execution_count": 2,
   "id": "8aaf4b42",
   "metadata": {},
   "outputs": [
    {
     "name": "stdout",
     "output_type": "stream",
     "text": [
      "38\n"
     ]
    }
   ],
   "source": [
    "num=38\n",
    "print(num)"
   ]
  },
  {
   "cell_type": "code",
   "execution_count": 3,
   "id": "e53ed942",
   "metadata": {},
   "outputs": [
    {
     "name": "stdout",
     "output_type": "stream",
     "text": [
      "20104132028\n"
     ]
    }
   ],
   "source": [
    "num = [38, 20104132028]\n",
    "print(num[1])"
   ]
  },
  {
   "cell_type": "code",
   "execution_count": 4,
   "id": "367d56a7",
   "metadata": {},
   "outputs": [
    {
     "name": "stdout",
     "output_type": "stream",
     "text": [
      "38\n"
     ]
    }
   ],
   "source": [
    "num = [38, 20104132028]\n",
    "print(num[0])"
   ]
  },
  {
   "cell_type": "code",
   "execution_count": 5,
   "id": "70a5b06d",
   "metadata": {},
   "outputs": [
    {
     "name": "stdout",
     "output_type": "stream",
     "text": [
      "814\n"
     ]
    }
   ],
   "source": [
    "num = 22*37\n",
    "print(num)"
   ]
  },
  {
   "cell_type": "code",
   "execution_count": 6,
   "id": "e7a9bc7c",
   "metadata": {},
   "outputs": [
    {
     "data": {
      "text/plain": [
       "int"
      ]
     },
     "execution_count": 6,
     "metadata": {},
     "output_type": "execute_result"
    }
   ],
   "source": [
    "type(num)"
   ]
  },
  {
   "cell_type": "code",
   "execution_count": 7,
   "id": "5a681130",
   "metadata": {},
   "outputs": [
    {
     "name": "stdout",
     "output_type": "stream",
     "text": [
      "517.44\n"
     ]
    }
   ],
   "source": [
    "num=21*24.64\n",
    "print(num)"
   ]
  },
  {
   "cell_type": "code",
   "execution_count": 8,
   "id": "e2b9bbe6",
   "metadata": {},
   "outputs": [
    {
     "data": {
      "text/plain": [
       "float"
      ]
     },
     "execution_count": 8,
     "metadata": {},
     "output_type": "execute_result"
    }
   ],
   "source": [
    "type(num)"
   ]
  },
  {
   "cell_type": "code",
   "execution_count": 10,
   "id": "49f503ee",
   "metadata": {},
   "outputs": [
    {
     "name": "stdout",
     "output_type": "stream",
     "text": [
      "[38, 20104132028]\n"
     ]
    }
   ],
   "source": [
    "num=[38, 20104132028]\n",
    "print(num)"
   ]
  },
  {
   "cell_type": "code",
   "execution_count": 11,
   "id": "24e99606",
   "metadata": {},
   "outputs": [
    {
     "data": {
      "text/plain": [
       "list"
      ]
     },
     "execution_count": 11,
     "metadata": {},
     "output_type": "execute_result"
    }
   ],
   "source": [
    "type(num)"
   ]
  },
  {
   "cell_type": "code",
   "execution_count": 13,
   "id": "50e92443",
   "metadata": {},
   "outputs": [
    {
     "name": "stdout",
     "output_type": "stream",
     "text": [
      "38\n"
     ]
    }
   ],
   "source": [
    "print(num[0])"
   ]
  },
  {
   "cell_type": "code",
   "execution_count": 14,
   "id": "1e8cad91",
   "metadata": {},
   "outputs": [
    {
     "name": "stdout",
     "output_type": "stream",
     "text": [
      "20104132028\n"
     ]
    }
   ],
   "source": [
    "print(num[1])"
   ]
  },
  {
   "cell_type": "code",
   "execution_count": 15,
   "id": "91e772ce",
   "metadata": {},
   "outputs": [
    {
     "name": "stdout",
     "output_type": "stream",
     "text": [
      "[20104132028, 38]\n"
     ]
    }
   ],
   "source": [
    "num[1]=38\n",
    "num[0]=20104132028\n",
    "print(num)"
   ]
  },
  {
   "cell_type": "code",
   "execution_count": 16,
   "id": "47c6aea1",
   "metadata": {},
   "outputs": [
    {
     "name": "stdout",
     "output_type": "stream",
     "text": [
      "20104132028\n",
      "38\n"
     ]
    }
   ],
   "source": [
    "print(num[0])\n",
    "print(num[1])"
   ]
  },
  {
   "cell_type": "code",
   "execution_count": 18,
   "id": "4371f6f3",
   "metadata": {},
   "outputs": [],
   "source": [
    "# same\n"
   ]
  },
  {
   "cell_type": "code",
   "execution_count": 20,
   "id": "ffb6de73",
   "metadata": {},
   "outputs": [
    {
     "name": "stdout",
     "output_type": "stream",
     "text": [
      "[20104132028, 20104132028]\n"
     ]
    }
   ],
   "source": [
    "num[1]=20104132028\n",
    "print(num)"
   ]
  },
  {
   "cell_type": "code",
   "execution_count": 21,
   "id": "72ee61fd",
   "metadata": {},
   "outputs": [],
   "source": [
    "# tuple\n"
   ]
  },
  {
   "cell_type": "code",
   "execution_count": 28,
   "id": "41e8ea90",
   "metadata": {},
   "outputs": [
    {
     "name": "stdout",
     "output_type": "stream",
     "text": [
      "(33, 21, 23)\n"
     ]
    },
    {
     "data": {
      "text/plain": [
       "tuple"
      ]
     },
     "execution_count": 28,
     "metadata": {},
     "output_type": "execute_result"
    }
   ],
   "source": [
    "x= (33,21,23)\n",
    "print(x)\n",
    "type(x)"
   ]
  },
  {
   "cell_type": "code",
   "execution_count": 34,
   "id": "56ead6f4",
   "metadata": {},
   "outputs": [],
   "source": [
    "# tuple value cannot be manupilated"
   ]
  },
  {
   "cell_type": "code",
   "execution_count": 30,
   "id": "8e3f7a77",
   "metadata": {
    "scrolled": true
   },
   "outputs": [
    {
     "ename": "TypeError",
     "evalue": "'tuple' object does not support item assignment",
     "output_type": "error",
     "traceback": [
      "\u001b[0;31m---------------------------------------------------------------------------\u001b[0m",
      "\u001b[0;31mTypeError\u001b[0m                                 Traceback (most recent call last)",
      "Cell \u001b[0;32mIn[30], line 1\u001b[0m\n\u001b[0;32m----> 1\u001b[0m x[\u001b[38;5;241m0\u001b[39m]\u001b[38;5;241m=\u001b[39m\u001b[38;5;241m20104132028\u001b[39m\n\u001b[1;32m      2\u001b[0m \u001b[38;5;28mprint\u001b[39m(x)\n",
      "\u001b[0;31mTypeError\u001b[0m: 'tuple' object does not support item assignment"
     ]
    }
   ],
   "source": [
    "x[0]=20104132028\n",
    "print(x)\n"
   ]
  },
  {
   "cell_type": "code",
   "execution_count": null,
   "id": "b0d44711",
   "metadata": {},
   "outputs": [],
   "source": []
  },
  {
   "cell_type": "code",
   "execution_count": 32,
   "id": "8dc164ef",
   "metadata": {},
   "outputs": [],
   "source": [
    "file=open('Study.ipynb','r')"
   ]
  },
  {
   "cell_type": "code",
   "execution_count": 33,
   "id": "2201e733",
   "metadata": {},
   "outputs": [
    {
     "data": {
      "text/plain": [
       "_io.TextIOWrapper"
      ]
     },
     "execution_count": 33,
     "metadata": {},
     "output_type": "execute_result"
    }
   ],
   "source": [
    "type(file)"
   ]
  },
  {
   "cell_type": "code",
   "execution_count": 45,
   "id": "3460a237",
   "metadata": {},
   "outputs": [],
   "source": [
    "# test wrapping\n",
    "#abc=12\n",
    "#_abc=21\n",
    "#abc_=31\n",
    "#a_b_c=41"
   ]
  },
  {
   "cell_type": "code",
   "execution_count": 47,
   "id": "3f5a813f",
   "metadata": {},
   "outputs": [],
   "source": [
    "#typeOfVariable=(abc,_abc,abc_,a_b_c,)\n",
    "#print(typeOfVariable[0])"
   ]
  },
  {
   "cell_type": "code",
   "execution_count": 54,
   "id": "0d188349",
   "metadata": {},
   "outputs": [
    {
     "name": "stdout",
     "output_type": "stream",
     "text": [
      "21\n"
     ]
    }
   ],
   "source": [
    "typeOfVariable=(abc,_abc,abc_,a_b_c,)\n",
    "print(typeOfVariable[1])"
   ]
  },
  {
   "cell_type": "code",
   "execution_count": 55,
   "id": "937b439f",
   "metadata": {},
   "outputs": [],
   "source": [
    "# operation\n"
   ]
  },
  {
   "cell_type": "code",
   "execution_count": 83,
   "id": "1d3d1f50",
   "metadata": {},
   "outputs": [],
   "source": [
    "x=7\n",
    "y=38\n",
    "z=20104132028"
   ]
  },
  {
   "cell_type": "code",
   "execution_count": 84,
   "id": "bbe4cf9d",
   "metadata": {},
   "outputs": [],
   "source": [
    "sum=(x+y+z)\n",
    "sub=(z-y-x)\n",
    "mul=(x*y*z)\n",
    "div=(z/y/x)\n",
    "modulo1=(x%y)\n",
    "modulo2=(modulo1%z)"
   ]
  },
  {
   "cell_type": "code",
   "execution_count": 85,
   "id": "03eecf92",
   "metadata": {},
   "outputs": [
    {
     "name": "stdout",
     "output_type": "stream",
     "text": [
      "7\n"
     ]
    }
   ],
   "source": [
    "print(modulo2)"
   ]
  },
  {
   "cell_type": "code",
   "execution_count": 86,
   "id": "f5804fc3",
   "metadata": {},
   "outputs": [
    {
     "name": "stdout",
     "output_type": "stream",
     "text": [
      "7\n"
     ]
    }
   ],
   "source": [
    "print(modulo1)"
   ]
  },
  {
   "cell_type": "code",
   "execution_count": 87,
   "id": "80dd177f",
   "metadata": {},
   "outputs": [
    {
     "name": "stdout",
     "output_type": "stream",
     "text": [
      "1\n"
     ]
    }
   ],
   "source": [
    "modulo3=(z%x)\n",
    "print(modulo3)"
   ]
  },
  {
   "cell_type": "code",
   "execution_count": 88,
   "id": "498cbe39",
   "metadata": {},
   "outputs": [
    {
     "name": "stdout",
     "output_type": "stream",
     "text": [
      "0\n"
     ]
    }
   ],
   "source": [
    "mod=(modulo1%modulo2%modulo3)\n",
    "print(mod)"
   ]
  },
  {
   "cell_type": "code",
   "execution_count": 89,
   "id": "a5ef7d72",
   "metadata": {},
   "outputs": [
    {
     "name": "stdout",
     "output_type": "stream",
     "text": [
      "75579443.71428572\n"
     ]
    }
   ],
   "source": [
    "print(div)"
   ]
  },
  {
   "cell_type": "code",
   "execution_count": 94,
   "id": "41cc25a1",
   "metadata": {},
   "outputs": [
    {
     "name": "stdout",
     "output_type": "stream",
     "text": [
      "0\n"
     ]
    }
   ],
   "source": [
    "divison_int=(x//y)\n",
    "print(divison_int)"
   ]
  },
  {
   "cell_type": "code",
   "execution_count": 95,
   "id": "c32c94a2",
   "metadata": {},
   "outputs": [],
   "source": [
    "divison_float=(x/y)"
   ]
  },
  {
   "cell_type": "code",
   "execution_count": 93,
   "id": "98f08ae7",
   "metadata": {},
   "outputs": [
    {
     "name": "stdout",
     "output_type": "stream",
     "text": [
      "0.18421052631578946\n"
     ]
    }
   ],
   "source": [
    "print(divison_float)"
   ]
  },
  {
   "cell_type": "code",
   "execution_count": null,
   "id": "e0701f8b",
   "metadata": {},
   "outputs": [],
   "source": [
    "# Actually after dividing x by y we get something which is in decimaal\n",
    "# format so we use // o get the exact/without decimal value.\n",
    "# / to get value with decimals.\n"
   ]
  }
 ],
 "metadata": {
  "kernelspec": {
   "display_name": "Python 3 (ipykernel)",
   "language": "python",
   "name": "python3"
  },
  "language_info": {
   "codemirror_mode": {
    "name": "ipython",
    "version": 3
   },
   "file_extension": ".py",
   "mimetype": "text/x-python",
   "name": "python",
   "nbconvert_exporter": "python",
   "pygments_lexer": "ipython3",
   "version": "3.11.5"
  }
 },
 "nbformat": 4,
 "nbformat_minor": 5
}
